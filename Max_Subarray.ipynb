{
 "cells": [
  {
   "cell_type": "code",
   "execution_count": 1,
   "metadata": {},
   "outputs": [],
   "source": [
    "#Design a correct algorithm to solve the Max Subarray Problem"
   ]
  },
  {
   "cell_type": "code",
   "execution_count": 2,
   "metadata": {},
   "outputs": [],
   "source": [
    "#Not Efficient\n",
    "\n",
    "def max_sublist(A):\n",
    "\n",
    "    largest = 0\n",
    "\n",
    "    for k in A:\n",
    "\n",
    "        i = A.index(k)\n",
    "\n",
    "        for f in (A[(i+1):]):\n",
    "\n",
    "            j = A.index(f)\n",
    "\n",
    "            if sum(A[i:(j+1)]) > largest:\n",
    "\n",
    "                largest = sum(A[i:(j+1)])\n",
    "                i_max = i\n",
    "                j_max = j\n",
    "\n",
    "    print(i_max,j_max,largest)"
   ]
  },
  {
   "cell_type": "code",
   "execution_count": 3,
   "metadata": {},
   "outputs": [],
   "source": [
    "#More Efficient Using Divide and Conquer\n",
    "\n",
    "def max_sublist_divandcon(A):\n",
    "\n",
    "    largest_left = 0\n",
    "    largest_right = 0\n",
    "    left = A[:len(A)//2]\n",
    "    right = A[len(A)//2:]\n",
    "\n",
    "\n",
    "    for k in left:\n",
    "\n",
    "        i = A.index(k)\n",
    "\n",
    "        for f in (left[(i+1):]):\n",
    "\n",
    "            if k == f:\n",
    "\n",
    "                B = A[i+1:]                \n",
    "                j = A.index(f) + B.index(f) + 1 \n",
    "\n",
    "            else:\n",
    "\n",
    "                j = A.index(f)\n",
    "\n",
    "            if sum(A[i:(j+1)]) > largest_left:\n",
    "\n",
    "                largest_left = sum(A[i:(j+1)])\n",
    "                i_max_left = i\n",
    "                j_max_left = j\n",
    "\n",
    "\n",
    "    ###\n",
    "    \n",
    "    for k in right:\n",
    "\n",
    "        i = right.index(k)\n",
    "\n",
    "        for f in (right[(i+1):]):\n",
    "\n",
    "            if k == f:\n",
    "\n",
    "                B = right[i+1:]                \n",
    "                j = right.index(f) + B.index(f) + 1 \n",
    "\n",
    "            else:\n",
    "\n",
    "                j = right.index(f)\n",
    "\n",
    "            if sum(right[i:(j+1)]) > largest_right:\n",
    "\n",
    "                largest_right = sum(right[i:(j+1)])\n",
    "                i_max_right = i + len(A)//2\n",
    "                j_max_right = j + len(A)//2\n",
    "\n",
    "\n",
    "    span_mid = A[i_max_left:j_max_right+1]\n",
    "\n",
    "    largest_mid = sum(span_mid)\n",
    "\n",
    "    if largest_mid > max(largest_left,largest_right):\n",
    "\n",
    "        print(i_max_left,j_max_right,largest_mid)\n",
    "\n",
    "    elif largest_left > largest_right:\n",
    "\n",
    "        print(i_max_left,j_max_left,largest_left)\n",
    "\n",
    "    else:\n",
    "        \n",
    "        print(i_max_right,j_max_right,largest_right)"
   ]
  },
  {
   "cell_type": "code",
   "execution_count": 6,
   "metadata": {},
   "outputs": [
    {
     "data": {
      "text/plain": [
       "(2, 6, 53)"
      ]
     },
     "execution_count": 6,
     "metadata": {},
     "output_type": "execute_result"
    }
   ],
   "source": [
    "#More Efficient using Dynamic Programming\n",
    "\n",
    "def max_sub_dy(A):\n",
    "    \n",
    "    max_ending_here = A[0]\n",
    "    max_so_far = A[0]\n",
    "#     mini = 10000\n",
    "#     leftindex = 0\n",
    "#     rightindex = 0\n",
    "    \n",
    "    for i in A[1:]:\n",
    "        \n",
    "        max_ending_here = max(i, max_ending_here + i)\n",
    "        max_so_far = max(max_so_far, max_ending_here)\n",
    "    \n",
    "    count = 0\n",
    "    su = A[i+1]\n",
    "    \n",
    "    for j in reversed(A[:i+1]):\n",
    "        \n",
    "        count += 1\n",
    "        su += j\n",
    "        \n",
    "        if su == max_so_far:\n",
    "            break\n",
    "        \n",
    "    print(i+1 - count, i+1, max_so_far)"
   ]
  }
 ],
 "metadata": {
  "kernelspec": {
   "display_name": "Python 3",
   "language": "python",
   "name": "python3"
  },
  "language_info": {
   "codemirror_mode": {
    "name": "ipython",
    "version": 3
   },
   "file_extension": ".py",
   "mimetype": "text/x-python",
   "name": "python",
   "nbconvert_exporter": "python",
   "pygments_lexer": "ipython3",
   "version": "3.6.5"
  }
 },
 "nbformat": 4,
 "nbformat_minor": 2
}
