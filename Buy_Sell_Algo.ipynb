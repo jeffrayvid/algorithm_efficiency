{
 "cells": [
  {
   "cell_type": "code",
   "execution_count": 147,
   "metadata": {},
   "outputs": [],
   "source": [
    "def buysell_algo(pricelist):\n",
    "\n",
    "    max_profit = 0\n",
    "\n",
    "    for i in pricelist[:len(pricelist)-1]:\n",
    "        \n",
    "        for j in pricelist[(pricelist.index(i)):]:\n",
    "        \n",
    "            if max_profit < (j - i):\n",
    "                max_profit = (j - i)\n",
    "                low = i\n",
    "                high = j\n",
    "                day_low = (pricelist.index(i))\n",
    "                day_high = (pricelist.index(j))\n",
    "        \n",
    "    print (\"Buy on day \" + str(day_low + 1) + \"\\nSell on day \" + str(day_high + 1) + \"\\nProfit is $\" + str(max_profit))"
   ]
  },
  {
   "cell_type": "code",
   "execution_count": 148,
   "metadata": {},
   "outputs": [],
   "source": [
    "def buysell_efficient_algo(pricelist):\n",
    "\n",
    "    max_profit_half1 = 0\n",
    "    max_profit_half2 = 0\n",
    "    half1 = pricelist[:(len(pricelist)//2)]\n",
    "    half2 = pricelist[len(pricelist)//2:]\n",
    "    \n",
    "    for i in half1[:len(half1)-1]:\n",
    "        \n",
    "        for j in half1[(half1.index(i)):]:\n",
    "        \n",
    "            if max_profit_half1 < (j - i):\n",
    "                max_profit_half1 = (j - i)\n",
    "                low_half1 = i\n",
    "                high_half1 = j\n",
    "                day_low_half1 = (pricelist.index(i))\n",
    "                day_high_half1 = (pricelist.index(j))\n",
    "    \n",
    "    for m in half2[:len(half2)-1]:\n",
    "        \n",
    "        for n in half2[(half1.index(i)):]:\n",
    "        \n",
    "            if max_profit_half2 < (n - m):\n",
    "                max_profit_half2 = (n - m)\n",
    "                low_half2 = m\n",
    "                high_half2 = n\n",
    "                day_low_half2 = (pricelist.index(m))\n",
    "                day_high_half2 = (pricelist.index(n))\n",
    "    \n",
    "    if ((max(half2) - min(half1)) > max_profit_half2) and (max(half2) - (min(half1)) > max_profit_half1):\n",
    "        \n",
    "        max_profit = (max(half2) - min(half1))\n",
    "        low = min(half1)\n",
    "        high = max(half2)\n",
    "        day_low = pricelist.index(low)\n",
    "        day_high = pricelist.index(high)\n",
    "        \n",
    "    elif max_profit_half2 > max_profit_half1:\n",
    "        \n",
    "        max_profit = max_profit_half2\n",
    "        low = low_half2\n",
    "        high = high_half2\n",
    "        day_low = day_low_half2\n",
    "        day_high = day_high_half2\n",
    "        \n",
    "    elif max_profit_half1 >= max_profit_half2:\n",
    "        \n",
    "        max_profit = max_profit_half1\n",
    "        low = low_half1\n",
    "        high = high_half1\n",
    "        day_low = day_low_half1\n",
    "        day_high = day_high_half1\n",
    "    \n",
    "    print (\"\\nBuy on day \" + str(day_low + 1) + \"\\nSell on day \" + str(day_high + 1) + \"\\nProfit is $\" + str(max_profit))        "
   ]
  },
  {
   "cell_type": "code",
   "execution_count": 149,
   "metadata": {},
   "outputs": [
    {
     "name": "stdout",
     "output_type": "stream",
     "text": [
      "Buy on day 4\n",
      "Sell on day 5\n",
      "Profit is $95\n",
      "\n",
      "Buy on day 4\n",
      "Sell on day 5\n",
      "Profit is $95\n"
     ]
    }
   ],
   "source": [
    "Prices = [20,10,40,5,100,14]\n",
    "\n",
    "buysell_algo(Prices)\n",
    "buysell_efficient_algo(Prices)"
   ]
  },
  {
   "cell_type": "code",
   "execution_count": 150,
   "metadata": {},
   "outputs": [],
   "source": [
    "import pandas as pd\n",
    "\n",
    "GOOG = pd.read_csv('GOOG.csv', header=0)\n",
    "\n",
    "Open = list(GOOG.Open)"
   ]
  },
  {
   "cell_type": "code",
   "execution_count": 151,
   "metadata": {},
   "outputs": [
    {
     "name": "stdout",
     "output_type": "stream",
     "text": [
      "Buy on day 2\n",
      "Sell on day 8\n",
      "Profit is $44.22998000000007\n",
      "\n",
      "Buy on day 2\n",
      "Sell on day 8\n",
      "Profit is $44.22998000000007\n"
     ]
    }
   ],
   "source": [
    "buysell_algo(Open)\n",
    "buysell_efficient_algo(Open)"
   ]
  },
  {
   "cell_type": "code",
   "execution_count": null,
   "metadata": {},
   "outputs": [],
   "source": []
  }
 ],
 "metadata": {
  "kernelspec": {
   "display_name": "Python 3",
   "language": "python",
   "name": "python3"
  },
  "language_info": {
   "codemirror_mode": {
    "name": "ipython",
    "version": 3
   },
   "file_extension": ".py",
   "mimetype": "text/x-python",
   "name": "python",
   "nbconvert_exporter": "python",
   "pygments_lexer": "ipython3",
   "version": "3.6.5"
  }
 },
 "nbformat": 4,
 "nbformat_minor": 2
}
